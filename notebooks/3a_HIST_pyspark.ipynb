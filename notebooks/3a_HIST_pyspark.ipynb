{
  "nbformat": 4,
  "nbformat_minor": 0,
  "metadata": {
    "colab": {
      "provenance": [],
      "collapsed_sections": [],
      "mount_file_id": "1KENni-n4u4nTkfieZx3m6zpMvQO7mVOH",
      "authorship_tag": "ABX9TyP0n161LhZ5RpScCPncbOJU",
      "include_colab_link": true
    },
    "kernelspec": {
      "name": "python3",
      "display_name": "Python 3"
    },
    "language_info": {
      "name": "python"
    }
  },
  "cells": [
    {
      "cell_type": "markdown",
      "metadata": {
        "id": "view-in-github",
        "colab_type": "text"
      },
      "source": [
        "<a href=\"https://colab.research.google.com/github/blancavazquez/CursoDatosMasivosII/blob/2023-I/notebooks/3a_HIST_pyspark.ipynb\" target=\"_parent\"><img src=\"https://colab.research.google.com/assets/colab-badge.svg\" alt=\"Open In Colab\"/></a>"
      ]
    },
    {
      "cell_type": "markdown",
      "metadata": {
        "id": "Ulq1AdzHcjf5"
      },
      "source": [
        "## Algoritmo de HITS usando pyspark"
      ]
    },
    {
      "cell_type": "code",
      "metadata": {
        "id": "vHnj2vz4ellZ",
        "colab": {
          "base_uri": "https://localhost:8080/"
        },
        "outputId": "75b4aa58-a67f-4f20-b8a1-ab9808b780dd"
      },
      "source": [
        "!pip install pyspark\n",
        "!pip install -U -q PyDrive\n",
        "!apt install openjdk-8-jdk-headless -qq\n",
        "import os\n",
        "os.environ[\"JAVA_HOME\"] = \"/usr/lib/jvm/java-8-openjdk-amd64\""
      ],
      "execution_count": 1,
      "outputs": [
        {
          "output_type": "stream",
          "name": "stdout",
          "text": [
            "Looking in indexes: https://pypi.org/simple, https://us-python.pkg.dev/colab-wheels/public/simple/\n",
            "Requirement already satisfied: pyspark in /usr/local/lib/python3.7/dist-packages (3.3.0)\n",
            "Requirement already satisfied: py4j==0.10.9.5 in /usr/local/lib/python3.7/dist-packages (from pyspark) (0.10.9.5)\n",
            "openjdk-8-jdk-headless is already the newest version (8u342-b07-0ubuntu1~18.04).\n",
            "The following package was automatically installed and is no longer required:\n",
            "  libnvidia-common-460\n",
            "Use 'apt autoremove' to remove it.\n",
            "0 upgraded, 0 newly installed, 0 to remove and 20 not upgraded.\n"
          ]
        }
      ]
    },
    {
      "cell_type": "code",
      "metadata": {
        "id": "Qw-1vKDhezS3"
      },
      "source": [
        "import pyspark\n",
        "from pyspark import SparkContext\n",
        "from operator import add\n",
        "import re, sys\n",
        "import time"
      ],
      "execution_count": 2,
      "outputs": []
    },
    {
      "cell_type": "code",
      "metadata": {
        "id": "goWMWnMfe2iu"
      },
      "source": [
        "def computeAuth(urls, hub):\n",
        "    \"\"\"Calculates hub contributions to the auth of other URLs.\"\"\"\n",
        "    num_urls = len(urls)\n",
        "    for url in urls: yield (url, hub)\n",
        "\n",
        "def computeHub(urls, auth):\n",
        "    \"\"\"Calculates auth contributions to the hub of other URLs.\"\"\"\n",
        "    num_urls = len(urls)\n",
        "    for url in urls: yield (url, auth)\n",
        "\n",
        "def outNeighbors(urls):\n",
        "    \"\"\"Parses a urls pair string into urls pair.\"\"\"\n",
        "    parts = re.split(r'\\s+', urls)\n",
        "    return parts[0], parts[1]\n",
        "\n",
        "def inNeighbors(urls):\n",
        "    \"\"\"Parses a urls pair string into urls pair.\"\"\"\n",
        "    parts = re.split(r'\\s+', urls)\n",
        "    return parts[1], parts[0]"
      ],
      "execution_count": 3,
      "outputs": []
    },
    {
      "cell_type": "code",
      "metadata": {
        "id": "ExYthWJxhx6W"
      },
      "source": [
        "sc = SparkContext(appName=\"HITS_pySpark\") # Initialize the spark context."
      ],
      "execution_count": 4,
      "outputs": []
    },
    {
      "cell_type": "code",
      "metadata": {
        "id": "QdJgE18ejp9q"
      },
      "source": [
        "lineas = sc.textFile('/content/drive/MyDrive/Colab Notebooks/datos_vinculos/data_hist.txt')"
      ],
      "execution_count": 5,
      "outputs": []
    },
    {
      "cell_type": "code",
      "metadata": {
        "colab": {
          "base_uri": "https://localhost:8080/"
        },
        "id": "oHqj9dStkW87",
        "outputId": "e46cabb5-e8ea-4603-cc79-7343f7cb873c"
      },
      "source": [
        "lineas.collect()"
      ],
      "execution_count": 6,
      "outputs": [
        {
          "output_type": "execute_result",
          "data": {
            "text/plain": [
              "['1 2', '1 3', '1 4', '2 1', '2 4', '3 5', '4 2', '4 3']"
            ]
          },
          "metadata": {},
          "execution_count": 6
        }
      ]
    },
    {
      "cell_type": "code",
      "metadata": {
        "id": "XN2EjmOTiLaF",
        "colab": {
          "base_uri": "https://localhost:8080/"
        },
        "outputId": "1d577b8b-28f9-4f44-d008-903af31e1a79"
      },
      "source": [
        "# create RDD in format (URL)\n",
        "out_links = lineas.map(lambda urls: outNeighbors(urls)).distinct().groupByKey()\n",
        "out_links.collect()"
      ],
      "execution_count": 7,
      "outputs": [
        {
          "output_type": "execute_result",
          "data": {
            "text/plain": [
              "[('1', <pyspark.resultiterable.ResultIterable at 0x7f6cd7e13f50>),\n",
              " ('4', <pyspark.resultiterable.ResultIterable at 0x7f6cdef68750>),\n",
              " ('3', <pyspark.resultiterable.ResultIterable at 0x7f6cd7e13ed0>),\n",
              " ('2', <pyspark.resultiterable.ResultIterable at 0x7f6cdef681d0>)]"
            ]
          },
          "metadata": {},
          "execution_count": 7
        }
      ]
    },
    {
      "cell_type": "code",
      "metadata": {
        "colab": {
          "base_uri": "https://localhost:8080/"
        },
        "id": "9ikOJca_kzq7",
        "outputId": "30cdb9c3-f787-4734-b536-070e7200a0dd"
      },
      "source": [
        "# create RDD in format (URL)\n",
        "in_links = lineas.map(lambda urls: inNeighbors(urls)).distinct().groupByKey()\n",
        "in_links.collect()"
      ],
      "execution_count": 8,
      "outputs": [
        {
          "output_type": "execute_result",
          "data": {
            "text/plain": [
              "[('4', <pyspark.resultiterable.ResultIterable at 0x7f6cd7dba1d0>),\n",
              " ('1', <pyspark.resultiterable.ResultIterable at 0x7f6cd7dba090>),\n",
              " ('5', <pyspark.resultiterable.ResultIterable at 0x7f6cd7dba410>),\n",
              " ('2', <pyspark.resultiterable.ResultIterable at 0x7f6cd7dba590>),\n",
              " ('3', <pyspark.resultiterable.ResultIterable at 0x7f6cd875e450>)]"
            ]
          },
          "metadata": {},
          "execution_count": 8
        }
      ]
    },
    {
      "cell_type": "code",
      "metadata": {
        "colab": {
          "base_uri": "https://localhost:8080/"
        },
        "id": "JfiI1ufQk5eA",
        "outputId": "39d367ba-dd8b-4e61-8810-61f0e73dea34"
      },
      "source": [
        "# Initialize hub of each URL to 1\n",
        "hubs = out_links.map(lambda x: (x[0], 1.0))\n",
        "hubs.collect()"
      ],
      "execution_count": 9,
      "outputs": [
        {
          "output_type": "execute_result",
          "data": {
            "text/plain": [
              "[('1', 1.0), ('4', 1.0), ('3', 1.0), ('2', 1.0)]"
            ]
          },
          "metadata": {},
          "execution_count": 9
        }
      ]
    },
    {
      "cell_type": "code",
      "metadata": {
        "colab": {
          "base_uri": "https://localhost:8080/"
        },
        "id": "55SCDYO9pmc4",
        "outputId": "88f99614-15db-44eb-d613-8b51af125188"
      },
      "source": [
        "# Initialize auths of each URL to 1\n",
        "auths = in_links.map(lambda x: (x[0], 1.0))\n",
        "auths.collect()"
      ],
      "execution_count": 10,
      "outputs": [
        {
          "output_type": "execute_result",
          "data": {
            "text/plain": [
              "[('4', 1.0), ('1', 1.0), ('5', 1.0), ('2', 1.0), ('3', 1.0)]"
            ]
          },
          "metadata": {},
          "execution_count": 10
        }
      ]
    },
    {
      "cell_type": "code",
      "metadata": {
        "colab": {
          "base_uri": "https://localhost:8080/"
        },
        "id": "D_cMaGQWqUwN",
        "outputId": "98613881-6ba8-4bac-bf51-500a8394f281"
      },
      "source": [
        "# Calculates and updates hub & auth ranks continuously using HITS algorithm.\n",
        "for iteration in range(10):\n",
        "  # Calculates URL contributions to the rank of other URLs.\n",
        "  \n",
        "  # Here we are contributing auth of a link present in the outgoing list of a link whose hub is given\n",
        "   print(\"Iteration:\", iteration)\n",
        "   auth_contribs = out_links.join(hubs).flatMap(lambda url_urls_rank:computeAuth(url_urls_rank[1][0], url_urls_rank[1][1]))\n",
        "   auths = auth_contribs.reduceByKey(add)\n",
        "   #print(\"auths:\",auths.take(5))\n",
        "   max_value = auths.max(lambda x:x[1])[1]\n",
        "   auths = auths.mapValues(lambda rank: rank/max_value) #normalize\n",
        "   #print(\"auths (normalizado):\",auths.take(5))\n",
        "\n",
        "   # Here we are contributing hub of a link present in the incoming list of a link whose auth is given\n",
        "   hub_contribs = in_links.join(auths).flatMap(lambda url_urls_rank:computeHub(url_urls_rank[1][0], url_urls_rank[1][1]))\n",
        "   hubs = hub_contribs.reduceByKey(add)\n",
        "   max_value = hubs.max(lambda x:x[1])[1]\n",
        "   hubs = hubs.mapValues(lambda rank:rank/max_value)#normalize"
      ],
      "execution_count": 11,
      "outputs": [
        {
          "output_type": "stream",
          "name": "stdout",
          "text": [
            "Iteration: 0\n",
            "Iteration: 1\n",
            "Iteration: 2\n",
            "Iteration: 3\n",
            "Iteration: 4\n",
            "Iteration: 5\n",
            "Iteration: 6\n",
            "Iteration: 7\n",
            "Iteration: 8\n",
            "Iteration: 9\n"
          ]
        }
      ]
    },
    {
      "cell_type": "code",
      "metadata": {
        "colab": {
          "base_uri": "https://localhost:8080/"
        },
        "id": "W2ttq_aSJf8W",
        "outputId": "0bb904f7-c970-4f8c-a8e1-9bcad42e4168"
      },
      "source": [
        "# Output final\n",
        "for (link, rank) in auths.collect():\n",
        "  print(link, \"has auth:\", (link, rank))\n",
        "\n",
        "print(\"**************************************\")\n",
        "for (link, rank) in hubs.collect():\n",
        "  print(link, \"has hub:\", (link, rank))"
      ],
      "execution_count": 12,
      "outputs": [
        {
          "output_type": "stream",
          "name": "stdout",
          "text": [
            "1 has auth: ('1', 0.12838756187947561)\n",
            "2 has auth: ('2', 0.6149109120448921)\n",
            "4 has auth: ('4', 0.4866324223620656)\n",
            "3 has auth: ('3', 0.6149109120448921)\n",
            "5 has auth: ('5', 2.1303163408019257e-07)\n",
            "**************************************\n",
            "3 has hub: ('3', 1.2411145506532355e-07)\n",
            "4 has hub: ('4', 0.7164897209651799)\n",
            "2 has hub: ('2', 0.3583084055475835)\n",
            "1 has hub: ('1', 1.0)\n"
          ]
        }
      ]
    },
    {
      "cell_type": "code",
      "metadata": {
        "id": "qWzaeumrMNAj"
      },
      "source": [
        "sc.stop()"
      ],
      "execution_count": 13,
      "outputs": []
    }
  ]
}