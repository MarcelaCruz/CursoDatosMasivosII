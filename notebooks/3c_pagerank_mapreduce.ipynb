{
  "nbformat": 4,
  "nbformat_minor": 0,
  "metadata": {
    "colab": {
      "provenance": [],
      "authorship_tag": "ABX9TyMlJmUEhbMLoha4UEcfO58i",
      "include_colab_link": true
    },
    "kernelspec": {
      "name": "python3",
      "display_name": "Python 3"
    },
    "language_info": {
      "name": "python"
    }
  },
  "cells": [
    {
      "cell_type": "markdown",
      "metadata": {
        "id": "view-in-github",
        "colab_type": "text"
      },
      "source": [
        "<a href=\"https://colab.research.google.com/github/blancavazquez/CursoDatosMasivosII/blob/2023-I/notebooks/3c_pagerank_mapreduce.ipynb\" target=\"_parent\"><img src=\"https://colab.research.google.com/assets/colab-badge.svg\" alt=\"Open In Colab\"/></a>"
      ]
    },
    {
      "cell_type": "markdown",
      "source": [
        "# PageRank con MapReduce\n",
        "* Descarga el [grafo de la Web de Stanford](https://snap.stanford.edu/data/web-Stanford.html), programa el algoritmo de PageRank usando MapReduce y calcula las relevancias de las páginas del grafo. Para este programa considera que el vector de relevancia $\\mathbf{r}$ cabe en la memoria principal de los nodos que ejecutan las tareas. Compara tus resultados con la función [`pagerank`](https://networkx.org/documentation/stable/reference/algorithms/generated/networkx.algorithms.link_analysis.pagerank_alg.pagerank.html) de la biblioteca [NetworkX](https://networkx.org/documentation/stable/index.html).\n",
        "\n",
        "* Punto extra: programa el algoritmo de PageRank usando MapReduce, considerando que el vector de relevancia $\\mathbf{r}$ no cabe en la memoria principal de los nodos que ejecutan las tareas. "
      ],
      "metadata": {
        "id": "HdxYh3r5rhTI"
      }
    }
  ]
}